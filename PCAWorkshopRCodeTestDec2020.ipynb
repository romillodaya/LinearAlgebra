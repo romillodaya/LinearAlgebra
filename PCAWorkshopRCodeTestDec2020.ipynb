{
  "nbformat": 4,
  "nbformat_minor": 0,
  "metadata": {
    "kernelspec": {
      "display_name": "R",
      "language": "R",
      "name": "ir"
    },
    "language_info": {
      "codemirror_mode": "r",
      "file_extension": ".r",
      "mimetype": "text/x-r-source",
      "name": "R",
      "pygments_lexer": "r",
      "version": "3.3.1"
    },
    "colab": {
      "name": "PCAWorkshopTest.ipynb",
      "provenance": [],
      "collapsed_sections": []
    }
  },
  "cells": [
    {
      "cell_type": "code",
      "metadata": {
        "id": "nTmGOkPXZjUv"
      },
      "source": [
        "library(ggplot2)\n",
        "library(dplyr)"
      ],
      "execution_count": null,
      "outputs": []
    },
    {
      "cell_type": "code",
      "metadata": {
        "id": "BjtWsiK518rt"
      },
      "source": [
        "## Load data - refer to http://openmv.net/info/food-texture for data description \n",
        "file = 'http://openmv.net/file/food-texture.csv'\n",
        "foodData = read.csv(file, header = TRUE, row.names = 1)"
      ],
      "execution_count": null,
      "outputs": []
    },
    {
      "cell_type": "code",
      "metadata": {
        "id": "yqt-fOL56_FS"
      },
      "source": [
        "## Print structure of data frame\n",
        "str(foodData)"
      ],
      "execution_count": null,
      "outputs": []
    },
    {
      "cell_type": "code",
      "metadata": {
        "id": "Osm3V-ix4CvU"
      },
      "source": [
        "## Print first 5 samples of data frame\n",
        "head(foodData, n = 5)"
      ],
      "execution_count": null,
      "outputs": []
    },
    {
      "cell_type": "code",
      "metadata": {
        "id": "jglloopNLWCZ"
      },
      "source": [
        "## Modify data frame\n",
        "# Rename Oil column to OilPercentage\n",
        "foodData = foodData %>% rename(OilPercentage = Oil)\n",
        "\n",
        "# Modify crispy column to reflect high (0) and low (1) crispness\n",
        "foodData = foodData %>% mutate(Crispy = ifelse(Crispy > 11, 'high', 'low'))\n",
        "\n",
        "# Change Crispy column to factor type\n",
        "foodData['Crispy'] = lapply(foodData['Crispy'], factor)"
      ],
      "execution_count": null,
      "outputs": []
    },
    {
      "cell_type": "code",
      "metadata": {
        "id": "CdwwmrQ3PydO"
      },
      "source": [
        "## Print structure of modified data frame\n",
        "str(foodData)"
      ],
      "execution_count": null,
      "outputs": []
    },
    {
      "cell_type": "code",
      "metadata": {
        "id": "KQkF_NmGN2gS"
      },
      "source": [
        "## Print first 5 samples of modified data frame\n",
        "head(foodData, n = 5)"
      ],
      "execution_count": null,
      "outputs": []
    },
    {
      "cell_type": "markdown",
      "metadata": {
        "id": "u7Kna-7AGypA"
      },
      "source": [
        "**Question-1**: Make a scatter plot between Density (x-axis) and OilPercentage (y-axis). What do you observe from this plot?"
      ]
    },
    {
      "cell_type": "code",
      "metadata": {
        "id": "ClvfDDEa_DD6"
      },
      "source": [
        "## Scatter plot between Density (x-axis) and OilPercentage (y-axis)\n",
        "p1 = ggplot(data = ?, aes(? = ?, y = ?)) +\n",
        "  geom_?() \n",
        "p1"
      ],
      "execution_count": null,
      "outputs": []
    },
    {
      "cell_type": "markdown",
      "metadata": {
        "id": "OSYJc-F-HBiZ"
      },
      "source": [
        "**Question-2**: Make a scatter plot between Density (x-axis) and OilPercentage (y-axis) color coded using Crispy. What do you observe from this plot?"
      ]
    },
    {
      "cell_type": "code",
      "metadata": {
        "id": "8uBvDdJpOEMm"
      },
      "source": [
        "## Scatter plot between Density (x-axis) and OilPercentage (y-axis) color coded using Crispy\n",
        "p2 = ?"
      ],
      "execution_count": null,
      "outputs": []
    },
    {
      "cell_type": "markdown",
      "metadata": {
        "id": "DuNx3TN7HPJi"
      },
      "source": [
        "**Question-3**: Calculate Pearson's correlation between Density and OilPercentage. "
      ]
    },
    {
      "cell_type": "code",
      "metadata": {
        "id": "sFrC5vagK43t"
      },
      "source": [
        "## Print correlation between Density and OilPercentage\n",
        "?(?, ?, method = '')"
      ],
      "execution_count": null,
      "outputs": []
    },
    {
      "cell_type": "markdown",
      "metadata": {
        "id": "BxGDSnCNHdIF"
      },
      "source": [
        "**Question-4**: Select data frame without Crispy column."
      ]
    },
    {
      "cell_type": "code",
      "metadata": {
        "id": "2lIlkwFx6Aew"
      },
      "source": [
        "## Select data frame without Crispy column\n",
        "fData = foodData %>% ?(-c(?))"
      ],
      "execution_count": null,
      "outputs": []
    },
    {
      "cell_type": "code",
      "metadata": {
        "id": "_PYx3mjV-NyO"
      },
      "source": [
        "# Standardize data\r\n",
        "fDataScaled = scale(fData)"
      ],
      "execution_count": null,
      "outputs": []
    },
    {
      "cell_type": "markdown",
      "metadata": {
        "id": "g9F2z9wyIDWY"
      },
      "source": [
        "**Question 5**: From the output of the cell below, answer the following questions:\n",
        "\n",
        "\n",
        "1.   Which principal component assigns the greatest weight (in magnitude) to Density?\n",
        "2.   Which principal component assigns the greatest weight (in magnitude) to OilPercentage?\n",
        "3.    True/false: the 2nd principal component score for a sample assigns a maximum weight to its Hardness.\n",
        "\n"
      ]
    },
    {
      "cell_type": "code",
      "metadata": {
        "id": "xyegzfrs8EF2"
      },
      "source": [
        "# Calculate eigenvalues & eigenvectors of sample correlation matrix\n",
        "e = eigen(cor(?)) \n",
        "\n",
        "# Eigenvectors of the sample covariance matrix\n",
        "u = ?\n",
        "\n",
        "# Eigenvalues of the sample covariance matrix\n",
        "lambda = ?\n",
        "\n",
        "# Extract data matrix from data frame\n",
        "X = as.matrix(?)\n",
        "\n",
        "# Print first sample\n",
        "print(?[?, ]) \n",
        "\n",
        "# Print the first 3 eigenvectors or principal directions\n",
        "print(?[, ?:?]) "
      ],
      "execution_count": null,
      "outputs": []
    },
    {
      "cell_type": "markdown",
      "metadata": {
        "id": "LSehr3cYKUoL"
      },
      "source": [
        "**Question-7**: Explain the output of the cell below?"
      ]
    },
    {
      "cell_type": "code",
      "metadata": {
        "id": "iU7yJd7mKl9C"
      },
      "source": [
        "print(var(X %*% u[, 1])) "
      ],
      "execution_count": null,
      "outputs": []
    },
    {
      "cell_type": "code",
      "metadata": {
        "id": "vo9VRxfP8_dJ"
      },
      "source": [
        "## Select scaled data frame consisiting of two features: Density & OilPercentage\n",
        "fDataScaledTwoFeatures = fDataScaled %>% select(c('Density', 'OilPercentage'))"
      ],
      "execution_count": null,
      "outputs": []
    },
    {
      "cell_type": "code",
      "metadata": {
        "id": "CHoDrrK3qtOr"
      },
      "source": [
        "## Calculate sample correlation matrix of data frame selected above\n",
        "corMatrix = cor(fDataScaledTwoFeatures)\n",
        "print(corMatrix)"
      ],
      "execution_count": null,
      "outputs": []
    },
    {
      "cell_type": "code",
      "metadata": {
        "id": "LMUWqOoAPoA2"
      },
      "source": [
        "# Calculate eigenvalues & eigenvectors of sample correlation matrix\n",
        "e = eigen(corMatrix)\n",
        "u = e$vectors\n",
        "lambda = e$values \n",
        "print(u)\n",
        "print(lambda)"
      ],
      "execution_count": null,
      "outputs": []
    },
    {
      "cell_type": "code",
      "metadata": {
        "id": "2tcmM2F8yw9-"
      },
      "source": [
        "## Extract scaled data matrix from data frame\n",
        "X = as.matrix(fDataScaledTwoFeatures)"
      ],
      "execution_count": null,
      "outputs": []
    },
    {
      "cell_type": "markdown",
      "metadata": {
        "id": "gMlsmnsPMaXb"
      },
      "source": [
        "**Question-8**: Complete the code cell below for calculating the shadow length and vector projection on to the first principal component direction."
      ]
    },
    {
      "cell_type": "code",
      "metadata": {
        "id": "3rkT7ZASfIVf"
      },
      "source": [
        "## Project samples onto the direction of the first eigenvector\n",
        "\n",
        "# Calculate shadow length of data\n",
        "shadowLength1 = ? %*% u[, ?]\n",
        "shadowLength1 = as.numeric(shadowLength1)\n",
        "\n",
        "# Vector projection\n",
        "unitVector = u[, 1]\n",
        "projectedSamples1 = u[, 1] %*% t(as.matrix(shadowLength1))"
      ],
      "execution_count": null,
      "outputs": []
    },
    {
      "cell_type": "code",
      "metadata": {
        "id": "buJxlrKE-8z0"
      },
      "source": [
        "## Add Crispy column to scaled data frame\n",
        "fDataScaledTwoFeatures['Crispy'] = foodData['Crispy']"
      ],
      "execution_count": null,
      "outputs": []
    },
    {
      "cell_type": "markdown",
      "metadata": {
        "id": "mkFnfgADM2DQ"
      },
      "source": [
        "**Question-9**: Complete code below to output a scatter plot of Density and OilPercentage, color coded using Crispy along with the first and second eigenvectors with the projected data on to the first principal direction also color coded using Crispy."
      ]
    },
    {
      "cell_type": "code",
      "metadata": {
        "id": "--CwX2ZgPaZk"
      },
      "source": [
        "## Scatter plot of Density and OilPercentage, color coded using Crispy and first\n",
        "## two eigenvectors with the projected data on to the first principal direction\n",
        "## also color coded using Crispy\n",
        "u = -u # this is a minor adjustment to flip the sign of the eigenvectors\n",
        "p3 = ? %>% ggplot(aes(x = Density, y = OilPercentage, color = factor(?))) +\n",
        "  geom_?(size = 1) +\n",
        "  geom_segment(aes(x = 0, y = 0, xend = u[1, 1], yend = u[2, 1]), size = 0.5,\n",
        "   arrow = arrow(length = unit(0.5,\"cm\")), color = 'red') +\n",
        "  geom_segment(aes(x = 0, y = 0, xend = u[?, ?], yend = u[?, ?]), size = 0.5,\n",
        "   arrow = arrow(length = unit(0.5,\"cm\")), color = 'blue') +\n",
        "  geom_point(aes(x = projectedSamples1[1, ], y = projectedSamples1[?, ], ? = ?(Crispy)), shape = 4, size = 2.0) \n",
        "p3"
      ],
      "execution_count": null,
      "outputs": []
    },
    {
      "cell_type": "markdown",
      "metadata": {
        "id": "Z6zoQaYCNXGO"
      },
      "source": [
        "**Question-10**: Projected data on to which principal direction (1st or 2nd) shows maximum separability in the data with respect to Crispy?"
      ]
    }
  ]
}