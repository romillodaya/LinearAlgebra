{
  "nbformat": 4,
  "nbformat_minor": 0,
  "metadata": {
    "colab": {
      "name": "MCL609LabSessionalCompletePythonCode.ipynb",
      "provenance": [],
      "collapsed_sections": []
    },
    "kernelspec": {
      "name": "python3",
      "display_name": "Python 3"
    }
  },
  "cells": [
    {
      "cell_type": "code",
      "metadata": {
        "id": "BZLeh7V3Pfha"
      },
      "source": [
        "import pandas as pd\n",
        "import numpy as np\n",
        "import os\n",
        "import sympy as sp\n",
        "import matplotlib.pyplot as plt\n",
        "import matplotlib.cm as cm\n",
        "plt.style.use('seaborn-whitegrid')\n",
        "%matplotlib inline"
      ],
      "execution_count": 1,
      "outputs": []
    },
    {
      "cell_type": "markdown",
      "metadata": {
        "id": "8ZfC0xWz-FQK"
      },
      "source": [
        "**Note**: The following function produces a component plot of a vector."
      ]
    },
    {
      "cell_type": "code",
      "metadata": {
        "id": "sizPyUC5JasE"
      },
      "source": [
        "def plotveccomp(x, name = ' ', color = 'black', marker = '*', axis = None):\n",
        "  ax = axis\n",
        "  component_index = range(0, len(x))\n",
        "  ax.plot(component_index, x, color = color, marker = marker) \n",
        "  ax.plot(component_index, [np.mean(x)]*len(x), linewidth = 1, linestyle = 'dashed', color ='blue') \n",
        "  ax.plot(component_index, [np.mean(x) - np.std(x)]*len(x), linewidth = 1, linestyle = 'dashed', color ='red')\n",
        "  ax.plot(component_index, [np.mean(x) + np.std(x)]*len(x), linewidth = 1, linestyle = 'dashed', color ='red')\n",
        "  ax.set_xlabel('Index')\n",
        "  ax.set_ylabel('Value')\n",
        "  ax.set_title('Component plot of '+name)"
      ],
      "execution_count": 2,
      "outputs": []
    },
    {
      "cell_type": "markdown",
      "metadata": {
        "id": "zrNi8ujIimp6"
      },
      "source": [
        "**Note**: The following function generates a random $n\\times n$-matrix for a given input $n.$ The entries of the matrix are *normally* distrbuted with mean 0 and standard deviation 1. Do not worry what \"normally\" distributed means."
      ]
    },
    {
      "cell_type": "code",
      "metadata": {
        "id": "kIPPL_OEiYr9"
      },
      "source": [
        "def genrandMatrix(n):\r\n",
        "  A = np.random.normal(0, 1, (n, n))\r\n",
        "  return(A)"
      ],
      "execution_count": 3,
      "outputs": []
    },
    {
      "cell_type": "markdown",
      "metadata": {
        "id": "GHdTH2-ejvdZ"
      },
      "source": [
        "**Question-1**: Generate a $3\\times 3$-random matrix."
      ]
    },
    {
      "cell_type": "code",
      "metadata": {
        "colab": {
          "base_uri": "https://localhost:8080/"
        },
        "id": "nVkMRPFBj1-H",
        "outputId": "11c4ec2a-97a1-4bc4-e16d-450431edfa13"
      },
      "source": [
        "A = genrandMatrix(3)\r\n",
        "print(A)"
      ],
      "execution_count": 4,
      "outputs": [
        {
          "output_type": "stream",
          "text": [
            "[[-0.70497926  0.0838745   0.69020583]\n",
            " [-1.07251276  2.59292041 -0.23729906]\n",
            " [-2.00873905 -0.24255264 -0.5653339 ]]\n"
          ],
          "name": "stdout"
        }
      ]
    },
    {
      "cell_type": "markdown",
      "metadata": {
        "id": "uW0EyOV0j7Mt"
      },
      "source": [
        "**Question-2**: Calculate the mean and standard deviations of the columns of the matrix generated above."
      ]
    },
    {
      "cell_type": "code",
      "metadata": {
        "colab": {
          "base_uri": "https://localhost:8080/"
        },
        "id": "P7Z3uKVbkDJR",
        "outputId": "54f8a536-b0c6-4b75-a16e-2864166365bc"
      },
      "source": [
        "print(np.mean(A, axis = 0))\r\n",
        "print(np.std(A, axis = 0))"
      ],
      "execution_count": 5,
      "outputs": [
        {
          "output_type": "stream",
          "text": [
            "[-1.26207702  0.81141409 -0.03747571]\n",
            "[0.54887664 1.26674445 0.5316904 ]\n"
          ],
          "name": "stdout"
        }
      ]
    },
    {
      "cell_type": "markdown",
      "metadata": {
        "id": "2XxHJLzgkaJ7"
      },
      "source": [
        "**Question-3**: Check if the columns of the matrix generated above are linearly independent."
      ]
    },
    {
      "cell_type": "code",
      "metadata": {
        "colab": {
          "base_uri": "https://localhost:8080/"
        },
        "id": "saggx8CDkZlH",
        "outputId": "5e8fcd13-2c15-4fdf-d0b7-19ee1d3ec27e"
      },
      "source": [
        "AugmentedMatrix = sp.Matrix([A[0, :], A[1, :], A[2, :]])\r\n",
        "print(AugmentedMatrix.rref())"
      ],
      "execution_count": null,
      "outputs": [
        {
          "output_type": "stream",
          "text": [
            "(Matrix([\n",
            "[1, 0, 0],\n",
            "[0, 1, 0],\n",
            "[0, 0, 1]]), (0, 1, 2))\n"
          ],
          "name": "stdout"
        }
      ]
    },
    {
      "cell_type": "markdown",
      "metadata": {
        "id": "kN0_sRMclENb"
      },
      "source": [
        "**Question-4**: What are the coordinates of the vector $b = \\begin{bmatrix}1\\\\2\\\\3\\end{bmatrix}$ with respect to the \r\n",
        "\r\n",
        "1.   columns of the matrix generated above\r\n",
        "2.   rows of the matrix generated above\r\n",
        "\r\n"
      ]
    },
    {
      "cell_type": "code",
      "metadata": {
        "colab": {
          "base_uri": "https://localhost:8080/"
        },
        "id": "STXm7xKQlfXg",
        "outputId": "ec29195a-e6b7-4d74-bbb2-084e74d89b14"
      },
      "source": [
        "b = np.array([1, 2, 3])\r\n",
        "# Coordinates with respect to columns of A\r\n",
        "AugmentedMatrix = sp.Matrix([np.hstack((A[0, :], b[0])),\r\n",
        "                             np.hstack((A[1, :], b[1])),\r\n",
        "                             np.hstack((A[2, :], b[2]))])\r\n",
        "print(AugmentedMatrix)\r\n",
        "x1, x2, x3 = sp.symbols('x1, x2, x3')\r\n",
        "print(sp.linsolve(AugmentedMatrix, (x1, x2, x3)))\r\n",
        "\r\n",
        "# Coordinates with respect to rows of A\r\n",
        "AugmentedMatrix = sp.Matrix([np.hstack((A[:, 0], b[0])),\r\n",
        "                             np.hstack((A[:, 1], b[1])),\r\n",
        "                             np.hstack((A[:, 2], b[2]))])\r\n",
        "print(AugmentedMatrix)\r\n",
        "x1, x2, x3 = sp.symbols('x1, x2, x3')\r\n",
        "print(sp.linsolve(AugmentedMatrix, (x1, x2, x3)))\r\n"
      ],
      "execution_count": null,
      "outputs": [
        {
          "output_type": "stream",
          "text": [
            "Matrix([[-0.0815241583474573, -0.358674437546747, -0.0167729970475822, 1.00000000000000], [-0.903332653938594, -1.30444754186662, -0.936931684053753, 2.00000000000000], [1.29886629017967, 1.19302301831636, 0.270870304334058, 3.00000000000000]])\n",
            "{(6.74214015236932, -4.18944179876556, -2.80221957006858)}\n",
            "Matrix([[-0.0815241583474573, -0.903332653938594, 1.29886629017967, 1.00000000000000], [-0.358674437546747, -1.30444754186662, 1.19302301831636, 2.00000000000000], [-0.0167729970475822, -0.936931684053753, 0.270870304334058, 3.00000000000000]])\n",
            "{(2.42603429935984, -3.72842436602015, -1.67086257422904)}\n"
          ],
          "name": "stdout"
        }
      ]
    },
    {
      "cell_type": "markdown",
      "metadata": {
        "id": "0NzV5SaQ9Tdq"
      },
      "source": [
        "**Question-5**: Generate a $8\\times 8$-random matrix and flatten it into a 1D-vector $a$."
      ]
    },
    {
      "cell_type": "code",
      "metadata": {
        "colab": {
          "base_uri": "https://localhost:8080/"
        },
        "id": "i1SyhZ919LlB",
        "outputId": "958aa3ac-7893-49f8-a84c-6a2cc56be11d"
      },
      "source": [
        "n = 8\r\n",
        "a = genrandMatrix(n).flatten()\r\n",
        "print(a.shape)"
      ],
      "execution_count": 6,
      "outputs": [
        {
          "output_type": "stream",
          "text": [
            "(64,)\n"
          ],
          "name": "stdout"
        }
      ]
    },
    {
      "cell_type": "markdown",
      "metadata": {
        "id": "VB8_Kkrw9yd4"
      },
      "source": [
        "**Question-6**: Make a component plot of the vector $a$."
      ]
    },
    {
      "cell_type": "code",
      "metadata": {
        "colab": {
          "base_uri": "https://localhost:8080/",
          "height": 408
        },
        "id": "Vxgi_HRY-Ymz",
        "outputId": "9e83a24a-2afe-4fcf-8398-5e74c3c23f50"
      },
      "source": [
        "fig, ax = plt.subplots(1, 1, figsize = (6,6))\r\n",
        "fig.tight_layout(pad = 4.0)\r\n",
        "plotveccomp(a, 'a', 'black', '*', ax)"
      ],
      "execution_count": 7,
      "outputs": [
        {
          "output_type": "display_data",
          "data": {
            "image/png": "[encoded data removed]",
            "text/plain": [
              "<Figure size 432x432 with 1 Axes>"
            ]
          },
          "metadata": {
            "tags": [],
            "needs_background": "light"
          }
        }
      ]
    },
    {
      "cell_type": "markdown",
      "metadata": {
        "id": "Y9WtsHLb-yIE"
      },
      "source": [
        "**Question-7**: What percentage of components of $a$ are beyond 1 standard deviation from the mean?"
      ]
    },
    {
      "cell_type": "code",
      "metadata": {
        "colab": {
          "base_uri": "https://localhost:8080/"
        },
        "id": "GCD_FR6r-7r5",
        "outputId": "e8659cff-8a54-448d-c734-52e3ab45395f"
      },
      "source": [
        "(sum(abs(a-np.mean(a)) >=  1*np.std(a))/len(a))*100"
      ],
      "execution_count": 8,
      "outputs": [
        {
          "output_type": "execute_result",
          "data": {
            "text/plain": [
              "29.6875"
            ]
          },
          "metadata": {
            "tags": []
          },
          "execution_count": 8
        }
      ]
    },
    {
      "cell_type": "markdown",
      "metadata": {
        "id": "rQBT12RjBPUh"
      },
      "source": [
        "**Note**: The following function generates a so called Hadamard matrix $H.$ The columns of the generated matrix $H$ form a set of basis vectors. Pay close attention to the columns of the matrix."
      ]
    },
    {
      "cell_type": "code",
      "metadata": {
        "colab": {
          "base_uri": "https://localhost:8080/"
        },
        "id": "XZ1MG3OGBvb7",
        "outputId": "7edb0845-8f7e-4010-b2c2-55e0eedce779"
      },
      "source": [
        "from scipy.linalg import hadamard\r\n",
        "H = hadamard(4) # columns of this form a basis for representing 4-vectors\r\n",
        "print(H)"
      ],
      "execution_count": 9,
      "outputs": [
        {
          "output_type": "stream",
          "text": [
            "[[ 1  1  1  1]\n",
            " [ 1 -1  1 -1]\n",
            " [ 1  1 -1 -1]\n",
            " [ 1 -1 -1  1]]\n"
          ],
          "name": "stdout"
        }
      ]
    },
    {
      "cell_type": "markdown",
      "metadata": {
        "id": "Sb0fi9G5_PKv"
      },
      "source": [
        "**Question-8**: Generate a Hadamard matrix with number of rows and columns equal to the size of vector $a$."
      ]
    },
    {
      "cell_type": "code",
      "metadata": {
        "id": "XckQ3IwA_XNj"
      },
      "source": [
        "H = hadamard(len(a))"
      ],
      "execution_count": 12,
      "outputs": []
    },
    {
      "cell_type": "markdown",
      "metadata": {
        "id": "NPpu4z0zCnb9"
      },
      "source": [
        "**Question-9**: Check if the columns of $H$ are mutually orthogonal."
      ]
    },
    {
      "cell_type": "code",
      "metadata": {
        "colab": {
          "base_uri": "https://localhost:8080/"
        },
        "id": "i9vkuZWsCm2J",
        "outputId": "ee848f08-0385-45ee-d965-c4c78789c469"
      },
      "source": [
        "np.dot(H.T, H)"
      ],
      "execution_count": null,
      "outputs": [
        {
          "output_type": "execute_result",
          "data": {
            "text/plain": [
              "array([[64,  0,  0, ...,  0,  0,  0],\n",
              "       [ 0, 64,  0, ...,  0,  0,  0],\n",
              "       [ 0,  0, 64, ...,  0,  0,  0],\n",
              "       ...,\n",
              "       [ 0,  0,  0, ..., 64,  0,  0],\n",
              "       [ 0,  0,  0, ...,  0, 64,  0],\n",
              "       [ 0,  0,  0, ...,  0,  0, 64]])"
            ]
          },
          "metadata": {
            "tags": []
          },
          "execution_count": 27
        }
      ]
    },
    {
      "cell_type": "markdown",
      "metadata": {
        "id": "L2JLgPv6C7yc"
      },
      "source": [
        "**Question-10**: Normalize the columns of $H.$"
      ]
    },
    {
      "cell_type": "code",
      "metadata": {
        "id": "giUogYiUELdd"
      },
      "source": [
        "H_normalized = H / np.linalg.norm(H, axis = 0)"
      ],
      "execution_count": 28,
      "outputs": []
    },
    {
      "cell_type": "markdown",
      "metadata": {
        "id": "8XpivEQUDHIl"
      },
      "source": [
        "**Question-11**: Print the norms of the columns of the normalized version of $H.$"
      ]
    },
    {
      "cell_type": "code",
      "metadata": {
        "id": "Nh-SVxpZDNJ_",
        "colab": {
          "base_uri": "https://localhost:8080/"
        },
        "outputId": "d24eda07-8eac-4b0d-d28c-a4e2a17ee7ad"
      },
      "source": [
        "np.linalg.norm(H_normalized, axis = 0)"
      ],
      "execution_count": 26,
      "outputs": [
        {
          "output_type": "execute_result",
          "data": {
            "text/plain": [
              "array([1., 1., 1., 1., 1., 1., 1., 1., 1., 1., 1., 1., 1., 1., 1., 1., 1.,\n",
              "       1., 1., 1., 1., 1., 1., 1., 1., 1., 1., 1., 1., 1., 1., 1., 1., 1.,\n",
              "       1., 1., 1., 1., 1., 1., 1., 1., 1., 1., 1., 1., 1., 1., 1., 1., 1.,\n",
              "       1., 1., 1., 1., 1., 1., 1., 1., 1., 1., 1., 1., 1.])"
            ]
          },
          "metadata": {
            "tags": []
          },
          "execution_count": 26
        }
      ]
    },
    {
      "cell_type": "markdown",
      "metadata": {
        "id": "6L8eG_EPFDAT"
      },
      "source": [
        "**Question-12**: Calculate the scalar projections (shadow lengths) of $a$ on to the columns of the normalized version of $H$ and store them in a vector $u.$"
      ]
    },
    {
      "cell_type": "code",
      "metadata": {
        "id": "pb1XQ8Q1FO53"
      },
      "source": [
        "u = np.dot(H_normalized.T, a)"
      ],
      "execution_count": null,
      "outputs": []
    },
    {
      "cell_type": "markdown",
      "metadata": {
        "id": "KGbbwBK6FpJG"
      },
      "source": [
        "**Question-13**: Make a component plot of $a$ and $u$ in two figures. Use different colors for the vectors."
      ]
    },
    {
      "cell_type": "code",
      "metadata": {
        "colab": {
          "base_uri": "https://localhost:8080/",
          "height": 408
        },
        "id": "chwS7leXF141",
        "outputId": "e0375dad-7cee-4c89-cc98-c6b23bd358a2"
      },
      "source": [
        "fig, (ax1, ax2) = plt.subplots(2, 1, figsize = (6,6))\r\n",
        "fig.tight_layout(pad = 4.0)\r\n",
        "plotveccomp(a, 'a', 'black', '*', ax1)\r\n",
        "plotveccomp(u, 'u', 'blue', '+', ax2)\r\n"
      ],
      "execution_count": null,
      "outputs": [
        {
          "output_type": "display_data",
          "data": {
            "image/png": "[encoded data removed]",
            "text/plain": [
              "<Figure size 432x432 with 2 Axes>"
            ]
          },
          "metadata": {
            "tags": [],
            "needs_background": "light"
          }
        }
      ]
    },
    {
      "cell_type": "markdown",
      "metadata": {
        "id": "dBWzbFbYGjhG"
      },
      "source": [
        "**Question-14**: What percentage of components of $u$ are beyond 1 standard deviation from the mean? How dows it compare with that of $a$?"
      ]
    },
    {
      "cell_type": "code",
      "metadata": {
        "colab": {
          "base_uri": "https://localhost:8080/"
        },
        "id": "oraprSAZGpHb",
        "outputId": "4496b228-4c17-4dc3-c896-930eb43bc830"
      },
      "source": [
        "(sum(abs(u - np.mean(u)) >= np.std(u))/len(u))*100"
      ],
      "execution_count": null,
      "outputs": [
        {
          "output_type": "execute_result",
          "data": {
            "text/plain": [
              "32.8125"
            ]
          },
          "metadata": {
            "tags": []
          },
          "execution_count": 31
        }
      ]
    }
  ]
}